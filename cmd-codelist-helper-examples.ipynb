{
 "cells": [
  {
   "cell_type": "markdown",
   "metadata": {},
   "source": [
    "NOTE - uses https://github.com/ONS-OpenData/cmd-databaker-utils\n",
    "    \n",
    "make sure you have the most up to date version via running `pip install --upgrade git+https://github.com/ONS-OpenData/cmd-databaker-utils.git` on the command line.\n",
    "\n",
    "simple additional instruction for cmd-databaker-utils can be found in the readme.md of the github repo (scroll down after clicking the link).\n"
   ]
  },
  {
   "cell_type": "markdown",
   "metadata": {},
   "source": [
    "---\n",
    "\n",
    "Load a sample CSV, and preview the first 4 lines"
   ]
  },
  {
   "cell_type": "code",
   "execution_count": null,
   "metadata": {
    "scrolled": true
   },
   "outputs": [],
   "source": [
    "\n",
    "import pandas as pd\n",
    "from api import *\n",
    "\n",
    "df = pd.read_csv(\"3.csv\")\n",
    "\n",
    "df[:4]"
   ]
  },
  {
   "cell_type": "markdown",
   "metadata": {},
   "source": [
    "\n",
    "---\n",
    "\n",
    "Scan the code-list api and see if there's any codelists that partially or completely match."
   ]
  },
  {
   "cell_type": "code",
   "execution_count": null,
   "metadata": {},
   "outputs": [],
   "source": [
    "from databakerUtils.api import findCodelistByCodes\n",
    "\n",
    "# this is how you can get all unique codes from a csv column into a python list - we'll be using this below\n",
    "geoList = list(df[\"Geography_codelist\"].unique())\n",
    "\n",
    "# create a dictionary of instuctions\n",
    "instructions = {\n",
    "    \"geography\":list(df[\"Geography_codelist\"].unique()),\n",
    "    \"sex\":list(df[\"Sex_codelist\"].unique())\n",
    "}\n",
    "\n",
    "# scan the codelist api\n",
    "results = findCodelistByCodes(instructions)\n",
    "\n",
    "# preview the results\n",
    "results\n"
   ]
  },
  {
   "cell_type": "markdown",
   "metadata": {},
   "source": [
    "\n",
    "#### Results Format\n",
    "\n",
    "* You will get one dictionary per codelist you are checking\n",
    "* If a codelist does not match anything in the API then no result is returned\n",
    "* bestMatchPerc is a % match - it will always only return the best match.\n",
    "* percentages of between 0 and 100 may need investigating.\n"
   ]
  },
  {
   "cell_type": "markdown",
   "metadata": {},
   "source": [
    "<br>\n",
    "---\n",
    "\n",
    "We can apply a similar function to search by labels\n"
   ]
  },
  {
   "cell_type": "code",
   "execution_count": null,
   "metadata": {},
   "outputs": [],
   "source": [
    "from databakerUtils.api import findCodelistByLabels\n",
    "\n",
    "# this is how you can get all unique codes from a csv column into a python list - we'll be using this below\n",
    "geoList = list(df[\"Geography\"].unique())\n",
    "\n",
    "# create a dictionary of instuctions\n",
    "instructions = {\n",
    "    \"geography\":list(df[\"Geography\"].unique()),\n",
    "    \"sex\":list(df[\"Sex\"].unique())\n",
    "}\n",
    "\n",
    "# scan the codelist api\n",
    "results = findCodelistByLabels(instructions)\n",
    "\n",
    "# preview the results\n",
    "results"
   ]
  },
  {
   "cell_type": "markdown",
   "metadata": {},
   "source": [
    "<br>\n",
    "\n",
    "---\n",
    "\n",
    "if you get a partial match you can use the additional functions outlined in the readme to help you investigate.\n"
   ]
  },
  {
   "cell_type": "code",
   "execution_count": null,
   "metadata": {},
   "outputs": [],
   "source": []
  }
 ],
 "metadata": {
  "kernelspec": {
   "display_name": "Python 3",
   "language": "python",
   "name": "python3"
  },
  "language_info": {
   "codemirror_mode": {
    "name": "ipython",
    "version": 3
   },
   "file_extension": ".py",
   "mimetype": "text/x-python",
   "name": "python",
   "nbconvert_exporter": "python",
   "pygments_lexer": "ipython3",
   "version": "3.7.0"
  }
 },
 "nbformat": 4,
 "nbformat_minor": 2
}
